{
 "cells": [
  {
   "cell_type": "markdown",
   "id": "c78b7177-7fb6-4f57-85dd-c8e924ca0814",
   "metadata": {},
   "source": [
    "## Numpy Prectise material"
   ]
  },
  {
   "cell_type": "code",
   "execution_count": 98,
   "id": "e9efde07-37cc-46e9-ab18-855b7ce1d3a1",
   "metadata": {},
   "outputs": [],
   "source": [
    "import numpy as np"
   ]
  },
  {
   "cell_type": "markdown",
   "id": "61f56f31-0bf6-4a2a-bef2-c43e0562b1df",
   "metadata": {},
   "source": [
    "### Numpy array creation method"
   ]
  },
  {
   "cell_type": "code",
   "execution_count": 3,
   "id": "92203ade-5e25-40fb-b5e2-7ce7c974be9b",
   "metadata": {},
   "outputs": [
    {
     "data": {
      "text/plain": [
       "array([ 1,  2,  3,  4,  5,  6,  7,  8,  9, 10, 11, 12, 13, 14, 15, 16, 17,\n",
       "       18, 19, 20, 21, 22, 23, 24])"
      ]
     },
     "execution_count": 3,
     "metadata": {},
     "output_type": "execute_result"
    }
   ],
   "source": [
    "lst = list(range(1,25))\n",
    "arr1 = np.array(lst)\n",
    "arr1"
   ]
  },
  {
   "cell_type": "code",
   "execution_count": 5,
   "id": "9aec1c31-3c79-4e3d-848b-180e60b221c8",
   "metadata": {},
   "outputs": [
    {
     "data": {
      "text/plain": [
       "array([ 1,  2,  3,  4,  5,  6,  7,  8,  9, 10, 11, 12, 13, 14, 15, 16, 17,\n",
       "       18, 19, 20, 21, 22, 23, 24])"
      ]
     },
     "execution_count": 5,
     "metadata": {},
     "output_type": "execute_result"
    }
   ],
   "source": [
    "arr2 = np.arange(1,25)\n",
    "arr2"
   ]
  },
  {
   "cell_type": "code",
   "execution_count": 6,
   "id": "62ee6cc7-5367-4ade-a1db-41804b992feb",
   "metadata": {},
   "outputs": [
    {
     "data": {
      "text/plain": [
       "array([1, 2, 3, 4, 5, 6, 7, 8, 9, 4, 5, 6, 1, 2, 3])"
      ]
     },
     "execution_count": 6,
     "metadata": {},
     "output_type": "execute_result"
    }
   ],
   "source": [
    "arr3 = np.array([1,2,3,4,5,6,7,8,9,4,5,6,1,2,3])\n",
    "arr3"
   ]
  },
  {
   "cell_type": "code",
   "execution_count": 9,
   "id": "cdb95eed-358a-4c7f-b9a4-f7d9139011ca",
   "metadata": {},
   "outputs": [
    {
     "data": {
      "text/plain": [
       "array([[0., 0., 0., 0., 0., 0., 0., 0., 0., 0.],\n",
       "       [0., 0., 0., 0., 0., 0., 0., 0., 0., 0.],\n",
       "       [0., 0., 0., 0., 0., 0., 0., 0., 0., 0.],\n",
       "       [0., 0., 0., 0., 0., 0., 0., 0., 0., 0.],\n",
       "       [0., 0., 0., 0., 0., 0., 0., 0., 0., 0.]])"
      ]
     },
     "execution_count": 9,
     "metadata": {},
     "output_type": "execute_result"
    }
   ],
   "source": [
    "arr4 = np.zeros((5,10))\n",
    "arr4"
   ]
  },
  {
   "cell_type": "code",
   "execution_count": 10,
   "id": "b52e56f2-f523-49aa-9cc6-0685dbeb9017",
   "metadata": {},
   "outputs": [
    {
     "data": {
      "text/plain": [
       "array([[1., 1., 1., 1., 1.],\n",
       "       [1., 1., 1., 1., 1.],\n",
       "       [1., 1., 1., 1., 1.],\n",
       "       [1., 1., 1., 1., 1.],\n",
       "       [1., 1., 1., 1., 1.],\n",
       "       [1., 1., 1., 1., 1.],\n",
       "       [1., 1., 1., 1., 1.],\n",
       "       [1., 1., 1., 1., 1.],\n",
       "       [1., 1., 1., 1., 1.],\n",
       "       [1., 1., 1., 1., 1.]])"
      ]
     },
     "execution_count": 10,
     "metadata": {},
     "output_type": "execute_result"
    }
   ],
   "source": [
    "arr5 = np.ones((10,5))\n",
    "arr5"
   ]
  },
  {
   "cell_type": "code",
   "execution_count": 22,
   "id": "6ee55128-29c6-4985-8cda-77ff983e90c3",
   "metadata": {
    "scrolled": true
   },
   "outputs": [
    {
     "data": {
      "text/plain": [
       "array([ 1.  ,  3.25,  5.5 ,  7.75, 10.  ])"
      ]
     },
     "execution_count": 22,
     "metadata": {},
     "output_type": "execute_result"
    }
   ],
   "source": [
    "arr6 = np.linspace(1,10,5)\n",
    "arr6\n",
    "# 1 to  6,   5 elements"
   ]
  },
  {
   "cell_type": "code",
   "execution_count": 24,
   "id": "07baa447-81e1-4249-b29d-1bc290a3795a",
   "metadata": {},
   "outputs": [
    {
     "data": {
      "text/plain": [
       "array([[ 0,  1,  2],\n",
       "       [ 3,  4,  5],\n",
       "       [ 6,  7,  8],\n",
       "       [ 9, 10, 11],\n",
       "       [12, 13, 14],\n",
       "       [15, 16, 17],\n",
       "       [18, 19, 20],\n",
       "       [21, 22, 23],\n",
       "       [24, 25, 26],\n",
       "       [27, 28, 29]])"
      ]
     },
     "execution_count": 24,
     "metadata": {},
     "output_type": "execute_result"
    }
   ],
   "source": [
    "arr7 = np.arange(0,30).reshape(10,3)\n",
    "arr7"
   ]
  },
  {
   "cell_type": "markdown",
   "id": "96627d53-1eef-4ba3-8e16-4f47515c92a8",
   "metadata": {},
   "source": [
    "### random initialliazation array creation method"
   ]
  },
  {
   "cell_type": "code",
   "execution_count": 12,
   "id": "ca969d8e-26ea-46fc-8de1-ad6c3d86c954",
   "metadata": {},
   "outputs": [
    {
     "data": {
      "text/plain": [
       "array([4, 3, 4, 1, 4, 4, 1, 1, 1])"
      ]
     },
     "execution_count": 12,
     "metadata": {},
     "output_type": "execute_result"
    }
   ],
   "source": [
    "arr_1_D = np.random.randint(1,5,9)\n",
    "arr_1_D"
   ]
  },
  {
   "cell_type": "code",
   "execution_count": 15,
   "id": "c39a4065-3f94-4450-9963-e185ba63c585",
   "metadata": {},
   "outputs": [
    {
     "data": {
      "text/plain": [
       "array([[0.56125422, 0.39243805, 0.70555173, 0.71317838, 0.28943659,\n",
       "        0.71389519, 0.23745193, 0.44739631, 0.624878  , 0.3086042 ],\n",
       "       [0.15477167, 0.8491195 , 0.47232781, 0.40792026, 0.1229388 ,\n",
       "        0.51769186, 0.40642161, 0.83237417, 0.59620608, 0.73092107],\n",
       "       [0.15259493, 0.49865868, 0.30468957, 0.45275084, 0.38578069,\n",
       "        0.18225771, 0.41251402, 0.19171861, 0.38269774, 0.681346  ],\n",
       "       [0.96052502, 0.54125768, 0.44884614, 0.25420142, 0.80533847,\n",
       "        0.76057546, 0.91448951, 0.6728468 , 0.16691025, 0.08867564],\n",
       "       [0.31638983, 0.32055368, 0.63856086, 0.77907571, 0.26675734,\n",
       "        0.11025743, 0.72484816, 0.69993759, 0.24032205, 0.74300028]])"
      ]
     },
     "execution_count": 15,
     "metadata": {},
     "output_type": "execute_result"
    }
   ],
   "source": [
    "arr_2_D = np.random.random((5,10))\n",
    "arr_2_D"
   ]
  },
  {
   "cell_type": "markdown",
   "id": "d9738f42-7e0a-4f1a-a66d-732dd257ab37",
   "metadata": {},
   "source": [
    "### Array attribute"
   ]
  },
  {
   "cell_type": "code",
   "execution_count": 26,
   "id": "aff69cf0-beb1-48f0-b48c-722a66d2cc03",
   "metadata": {},
   "outputs": [
    {
     "data": {
      "text/plain": [
       "array([[ 0,  1,  2,  3,  4],\n",
       "       [ 5,  6,  7,  8,  9],\n",
       "       [10, 11, 12, 13, 14],\n",
       "       [15, 16, 17, 18, 19],\n",
       "       [20, 21, 22, 23, 24],\n",
       "       [25, 26, 27, 28, 29],\n",
       "       [30, 31, 32, 33, 34],\n",
       "       [35, 36, 37, 38, 39],\n",
       "       [40, 41, 42, 43, 44],\n",
       "       [45, 46, 47, 48, 49],\n",
       "       [50, 51, 52, 53, 54],\n",
       "       [55, 56, 57, 58, 59]])"
      ]
     },
     "execution_count": 26,
     "metadata": {},
     "output_type": "execute_result"
    }
   ],
   "source": [
    "arr = np.arange(60).reshape(12,5)\n",
    "arr"
   ]
  },
  {
   "cell_type": "code",
   "execution_count": 27,
   "id": "3e7bbf39-f73d-4d34-bbc8-e8a21ff24ddb",
   "metadata": {},
   "outputs": [
    {
     "data": {
      "text/plain": [
       "(12, 5)"
      ]
     },
     "execution_count": 27,
     "metadata": {},
     "output_type": "execute_result"
    }
   ],
   "source": [
    "arr.shape"
   ]
  },
  {
   "cell_type": "code",
   "execution_count": 28,
   "id": "12bc653f-34de-4a89-8f09-66a6418a766a",
   "metadata": {},
   "outputs": [
    {
     "data": {
      "text/plain": [
       "dtype('int32')"
      ]
     },
     "execution_count": 28,
     "metadata": {},
     "output_type": "execute_result"
    }
   ],
   "source": [
    "arr.dtype"
   ]
  },
  {
   "cell_type": "code",
   "execution_count": 29,
   "id": "3ce85e10-7c35-4e9f-ae2e-aa8f64943e92",
   "metadata": {},
   "outputs": [
    {
     "data": {
      "text/plain": [
       "2"
      ]
     },
     "execution_count": 29,
     "metadata": {},
     "output_type": "execute_result"
    }
   ],
   "source": [
    "arr.ndim"
   ]
  },
  {
   "cell_type": "code",
   "execution_count": 31,
   "id": "d07f58a1-a606-4ff9-b54d-aedb888f4935",
   "metadata": {},
   "outputs": [
    {
     "data": {
      "text/plain": [
       "60"
      ]
     },
     "execution_count": 31,
     "metadata": {},
     "output_type": "execute_result"
    }
   ],
   "source": [
    "arr.size     # total no. of elements"
   ]
  },
  {
   "cell_type": "code",
   "execution_count": 32,
   "id": "3bcfc604-d34b-4b39-a559-513e90c2f3c4",
   "metadata": {},
   "outputs": [
    {
     "data": {
      "text/plain": [
       "array([ 0,  1,  2,  3,  4,  5,  6,  7,  8,  9, 10, 11, 12, 13, 14, 15, 16,\n",
       "       17, 18, 19, 20, 21, 22, 23, 24, 25, 26, 27, 28, 29, 30, 31, 32, 33,\n",
       "       34, 35, 36, 37, 38, 39, 40, 41, 42, 43, 44, 45, 46, 47, 48, 49, 50,\n",
       "       51, 52, 53, 54, 55, 56, 57, 58, 59])"
      ]
     },
     "execution_count": 32,
     "metadata": {},
     "output_type": "execute_result"
    }
   ],
   "source": [
    "arr.flatten()    # converting in 1D"
   ]
  },
  {
   "cell_type": "code",
   "execution_count": 33,
   "id": "bcb10df8-0eba-43a6-ade9-46dc86075da0",
   "metadata": {},
   "outputs": [
    {
     "data": {
      "text/plain": [
       "array([ 0,  1,  2,  3,  4,  5,  6,  7,  8,  9, 10, 11, 12, 13, 14, 15, 16,\n",
       "       17, 18, 19, 20, 21, 22, 23, 24, 25, 26, 27, 28, 29, 30, 31, 32, 33,\n",
       "       34, 35, 36, 37, 38, 39, 40, 41, 42, 43, 44, 45, 46, 47, 48, 49, 50,\n",
       "       51, 52, 53, 54, 55, 56, 57, 58, 59])"
      ]
     },
     "execution_count": 33,
     "metadata": {},
     "output_type": "execute_result"
    }
   ],
   "source": [
    "arr.ravel()       # converting 1 D"
   ]
  },
  {
   "cell_type": "code",
   "execution_count": 37,
   "id": "da817a7c-335e-49d6-a145-ffe0eeeb12ee",
   "metadata": {},
   "outputs": [
    {
     "data": {
      "text/plain": [
       "[[1, 2, 3], [4, 5, 6]]"
      ]
     },
     "execution_count": 37,
     "metadata": {},
     "output_type": "execute_result"
    }
   ],
   "source": [
    "list_2D = [[1,2,3],[4,5,6]]\n",
    "list_2D"
   ]
  },
  {
   "cell_type": "code",
   "execution_count": 39,
   "id": "2c57df21-9f91-41c7-9c42-c5222b7df8b3",
   "metadata": {},
   "outputs": [
    {
     "data": {
      "text/plain": [
       "array([[1, 2, 3],\n",
       "       [4, 5, 6]])"
      ]
     },
     "execution_count": 39,
     "metadata": {},
     "output_type": "execute_result"
    }
   ],
   "source": [
    "arr = np.array(list_2D)\n",
    "arr"
   ]
  },
  {
   "cell_type": "code",
   "execution_count": 40,
   "id": "7479d6dd-f298-4c86-b339-5cb4082d2efa",
   "metadata": {},
   "outputs": [
    {
     "data": {
      "text/plain": [
       "(2, 3)"
      ]
     },
     "execution_count": 40,
     "metadata": {},
     "output_type": "execute_result"
    }
   ],
   "source": [
    "arr.shape"
   ]
  },
  {
   "cell_type": "code",
   "execution_count": 44,
   "id": "f51328a2-dc92-414f-a3e6-9f2eed323c2e",
   "metadata": {},
   "outputs": [
    {
     "data": {
      "text/plain": [
       "(3, 2)"
      ]
     },
     "execution_count": 44,
     "metadata": {},
     "output_type": "execute_result"
    }
   ],
   "source": [
    "arr.T.shape         ## transposing the shape of the data"
   ]
  },
  {
   "cell_type": "code",
   "execution_count": 45,
   "id": "6e323d6e-b90e-4a66-bb20-a30f417ab514",
   "metadata": {},
   "outputs": [
    {
     "data": {
      "text/plain": [
       "array([[1, 2, 3],\n",
       "       [4, 5, 6]])"
      ]
     },
     "execution_count": 45,
     "metadata": {},
     "output_type": "execute_result"
    }
   ],
   "source": [
    "arr"
   ]
  },
  {
   "cell_type": "markdown",
   "id": "48df31f5-4a1f-4144-ab37-d9cecee14294",
   "metadata": {},
   "source": [
    "### Acessing elements from array 1D and 2D array"
   ]
  },
  {
   "cell_type": "code",
   "execution_count": 99,
   "id": "c638697c-bffe-49c2-97b5-eee41d629a82",
   "metadata": {},
   "outputs": [
    {
     "data": {
      "text/plain": [
       "array([[ 0,  1,  2,  3,  4],\n",
       "       [ 5,  6,  7,  8,  9],\n",
       "       [10, 11, 12, 13, 14],\n",
       "       [15, 16, 17, 18, 19],\n",
       "       [20, 21, 22, 23, 24],\n",
       "       [25, 26, 27, 28, 29],\n",
       "       [30, 31, 32, 33, 34],\n",
       "       [35, 36, 37, 38, 39],\n",
       "       [40, 41, 42, 43, 44],\n",
       "       [45, 46, 47, 48, 49],\n",
       "       [50, 51, 52, 53, 54],\n",
       "       [55, 56, 57, 58, 59]])"
      ]
     },
     "execution_count": 99,
     "metadata": {},
     "output_type": "execute_result"
    }
   ],
   "source": [
    "arr = np.arange(60).reshape(12,5)\n",
    "arr"
   ]
  },
  {
   "cell_type": "code",
   "execution_count": 52,
   "id": "3ed2d872-dad9-4b95-94ac-0ef1f81e0637",
   "metadata": {},
   "outputs": [
    {
     "data": {
      "text/plain": [
       "array([5, 6, 7, 8, 9])"
      ]
     },
     "execution_count": 52,
     "metadata": {},
     "output_type": "execute_result"
    }
   ],
   "source": [
    "arr[1]   # particular row"
   ]
  },
  {
   "cell_type": "code",
   "execution_count": 53,
   "id": "508a5be1-007b-469a-b680-b499116dfdc2",
   "metadata": {},
   "outputs": [
    {
     "data": {
      "text/plain": [
       "6"
      ]
     },
     "execution_count": 53,
     "metadata": {},
     "output_type": "execute_result"
    }
   ],
   "source": [
    "arr[1,1]    # row and particular element define with column"
   ]
  },
  {
   "cell_type": "code",
   "execution_count": 60,
   "id": "77b0f55c-4f40-4475-9c7e-9d0e3084f0e6",
   "metadata": {},
   "outputs": [
    {
     "data": {
      "text/plain": [
       "array([8, 9])"
      ]
     },
     "execution_count": 60,
     "metadata": {},
     "output_type": "execute_result"
    }
   ],
   "source": [
    "arr[1,3:5]"
   ]
  },
  {
   "cell_type": "code",
   "execution_count": 73,
   "id": "6d227bea-0537-42d9-b23b-4372502af0ef",
   "metadata": {},
   "outputs": [],
   "source": [
    "arr[7:8,4][0]=100"
   ]
  },
  {
   "cell_type": "code",
   "execution_count": 74,
   "id": "3f74be2b-e187-43d1-9b51-88745073fc27",
   "metadata": {},
   "outputs": [
    {
     "data": {
      "text/plain": [
       "array([[  0,   1,   2,   3,   4],\n",
       "       [  5,   6,   7,   8,   9],\n",
       "       [ 10,  11,  12,  13,  14],\n",
       "       [ 15,  16,  17,  18,  19],\n",
       "       [ 20,  21,  22,  23,  24],\n",
       "       [ 25,  26,  27,  28,  29],\n",
       "       [ 30,  31,  32,  33,  34],\n",
       "       [ 35,  36,  37,  38, 100],\n",
       "       [ 40,  41,  42,  43,  44],\n",
       "       [ 45,  46,  47,  48,  49],\n",
       "       [ 50,  51,  52,  53,  54],\n",
       "       [ 55,  56,  57,  58,  59]])"
      ]
     },
     "execution_count": 74,
     "metadata": {},
     "output_type": "execute_result"
    }
   ],
   "source": [
    "arr\n",
    "# 22 manupualating by 500"
   ]
  },
  {
   "cell_type": "markdown",
   "id": "907ab83d-c314-447f-8d1a-a1293639dd73",
   "metadata": {},
   "source": [
    "### accessing 59 from last by multiple way "
   ]
  },
  {
   "cell_type": "code",
   "execution_count": 103,
   "id": "7aa09eee-c9bf-4464-b640-b67517d002d9",
   "metadata": {},
   "outputs": [
    {
     "data": {
      "text/plain": [
       "59"
      ]
     },
     "execution_count": 103,
     "metadata": {},
     "output_type": "execute_result"
    }
   ],
   "source": [
    "arr[11][-1]"
   ]
  },
  {
   "cell_type": "code",
   "execution_count": 107,
   "id": "2bd7852d-6f77-4fd2-9893-cb1419a3fd43",
   "metadata": {},
   "outputs": [
    {
     "data": {
      "text/plain": [
       "59"
      ]
     },
     "execution_count": 107,
     "metadata": {},
     "output_type": "execute_result"
    }
   ],
   "source": [
    "arr[11:,-1][0]"
   ]
  },
  {
   "cell_type": "code",
   "execution_count": 108,
   "id": "f0cf90d5-b1c3-4c9d-ab73-1e38448a2c4a",
   "metadata": {},
   "outputs": [
    {
     "data": {
      "text/plain": [
       "59"
      ]
     },
     "execution_count": 108,
     "metadata": {},
     "output_type": "execute_result"
    }
   ],
   "source": [
    "arr[11,4]"
   ]
  },
  {
   "cell_type": "code",
   "execution_count": 114,
   "id": "6a0faa58-2573-481b-8478-8b14c16b6503",
   "metadata": {},
   "outputs": [
    {
     "data": {
      "text/plain": [
       "59"
      ]
     },
     "execution_count": 114,
     "metadata": {},
     "output_type": "execute_result"
    }
   ],
   "source": [
    "arr[:,4][11]"
   ]
  },
  {
   "cell_type": "code",
   "execution_count": null,
   "id": "78627456-e6c7-4675-906c-b710b3941dc2",
   "metadata": {},
   "outputs": [],
   "source": []
  },
  {
   "cell_type": "code",
   "execution_count": 77,
   "id": "0bc7c9e8-9302-4595-89f8-4913b4cbe442",
   "metadata": {},
   "outputs": [],
   "source": [
    "arr[4,2] = 500"
   ]
  },
  {
   "cell_type": "code",
   "execution_count": 79,
   "id": "763100d4-a0bc-4c92-922f-59e44afd91cf",
   "metadata": {},
   "outputs": [
    {
     "data": {
      "text/plain": [
       "500"
      ]
     },
     "execution_count": 79,
     "metadata": {},
     "output_type": "execute_result"
    }
   ],
   "source": [
    "arr[4,2]"
   ]
  },
  {
   "cell_type": "code",
   "execution_count": 89,
   "id": "82b6bac0-4935-4f6c-9890-5ad15f8d028c",
   "metadata": {},
   "outputs": [
    {
     "data": {
      "text/plain": [
       "59"
      ]
     },
     "execution_count": 89,
     "metadata": {},
     "output_type": "execute_result"
    }
   ],
   "source": [
    "arr[10:,3:][1,1]"
   ]
  },
  {
   "cell_type": "code",
   "execution_count": 90,
   "id": "2429c168-a2c4-43dc-b10c-bdabe57aa65a",
   "metadata": {},
   "outputs": [],
   "source": [
    "arr[10:,3:][1,1] = 500"
   ]
  },
  {
   "cell_type": "code",
   "execution_count": 91,
   "id": "6f9799ad-fe90-42b3-96f4-3472ef4ba148",
   "metadata": {},
   "outputs": [
    {
     "data": {
      "text/plain": [
       "500"
      ]
     },
     "execution_count": 91,
     "metadata": {},
     "output_type": "execute_result"
    }
   ],
   "source": [
    "arr[10:,3:][1,1]"
   ]
  },
  {
   "cell_type": "code",
   "execution_count": 92,
   "id": "9dadc8ef-452c-4a88-8c78-f60518bc328c",
   "metadata": {},
   "outputs": [
    {
     "data": {
      "text/plain": [
       "array([[  0,   1,   2,   3,   4],\n",
       "       [  5,   6,   7,   8,   9],\n",
       "       [ 10,  11,  12,  13,  14],\n",
       "       [ 15,  16,  17,  18,  19],\n",
       "       [ 20,  21, 500,  23,  24],\n",
       "       [ 25,  26,  27,  28,  29],\n",
       "       [ 30,  31,  32,  33,  34],\n",
       "       [ 35,  36,  37,  38, 100],\n",
       "       [ 40,  41,  42,  43,  44],\n",
       "       [ 45,  46,  47,  48,  49],\n",
       "       [ 50,  51,  52,  53,  54],\n",
       "       [ 55,  56,  57,  58, 500]])"
      ]
     },
     "execution_count": 92,
     "metadata": {},
     "output_type": "execute_result"
    }
   ],
   "source": [
    "arr"
   ]
  },
  {
   "cell_type": "markdown",
   "id": "d2776f32-c8f6-40c5-b468-53d081d8940e",
   "metadata": {},
   "source": [
    "## accessing elements from 3D Array"
   ]
  },
  {
   "cell_type": "code",
   "execution_count": 115,
   "id": "96afa263-154b-4151-99e1-134bf612682f",
   "metadata": {},
   "outputs": [
    {
     "data": {
      "text/plain": [
       "array([[[  0,   1,   2],\n",
       "        [  3,   4,   5],\n",
       "        [  6,   7,   8],\n",
       "        [  9,  10,  11],\n",
       "        [ 12,  13,  14],\n",
       "        [ 15,  16,  17],\n",
       "        [ 18,  19,  20],\n",
       "        [ 21,  22,  23],\n",
       "        [ 24,  25,  26],\n",
       "        [ 27,  28,  29],\n",
       "        [ 30,  31,  32],\n",
       "        [ 33,  34,  35],\n",
       "        [ 36,  37,  38],\n",
       "        [ 39,  40,  41],\n",
       "        [ 42,  43,  44]],\n",
       "\n",
       "       [[ 45,  46,  47],\n",
       "        [ 48,  49,  50],\n",
       "        [ 51,  52,  53],\n",
       "        [ 54,  55,  56],\n",
       "        [ 57,  58,  59],\n",
       "        [ 60,  61,  62],\n",
       "        [ 63,  64,  65],\n",
       "        [ 66,  67,  68],\n",
       "        [ 69,  70,  71],\n",
       "        [ 72,  73,  74],\n",
       "        [ 75,  76,  77],\n",
       "        [ 78,  79,  80],\n",
       "        [ 81,  82,  83],\n",
       "        [ 84,  85,  86],\n",
       "        [ 87,  88,  89]],\n",
       "\n",
       "       [[ 90,  91,  92],\n",
       "        [ 93,  94,  95],\n",
       "        [ 96,  97,  98],\n",
       "        [ 99, 100, 101],\n",
       "        [102, 103, 104],\n",
       "        [105, 106, 107],\n",
       "        [108, 109, 110],\n",
       "        [111, 112, 113],\n",
       "        [114, 115, 116],\n",
       "        [117, 118, 119],\n",
       "        [120, 121, 122],\n",
       "        [123, 124, 125],\n",
       "        [126, 127, 128],\n",
       "        [129, 130, 131],\n",
       "        [132, 133, 134]],\n",
       "\n",
       "       [[135, 136, 137],\n",
       "        [138, 139, 140],\n",
       "        [141, 142, 143],\n",
       "        [144, 145, 146],\n",
       "        [147, 148, 149],\n",
       "        [150, 151, 152],\n",
       "        [153, 154, 155],\n",
       "        [156, 157, 158],\n",
       "        [159, 160, 161],\n",
       "        [162, 163, 164],\n",
       "        [165, 166, 167],\n",
       "        [168, 169, 170],\n",
       "        [171, 172, 173],\n",
       "        [174, 175, 176],\n",
       "        [177, 178, 179]],\n",
       "\n",
       "       [[180, 181, 182],\n",
       "        [183, 184, 185],\n",
       "        [186, 187, 188],\n",
       "        [189, 190, 191],\n",
       "        [192, 193, 194],\n",
       "        [195, 196, 197],\n",
       "        [198, 199, 200],\n",
       "        [201, 202, 203],\n",
       "        [204, 205, 206],\n",
       "        [207, 208, 209],\n",
       "        [210, 211, 212],\n",
       "        [213, 214, 215],\n",
       "        [216, 217, 218],\n",
       "        [219, 220, 221],\n",
       "        [222, 223, 224]]])"
      ]
     },
     "execution_count": 115,
     "metadata": {},
     "output_type": "execute_result"
    }
   ],
   "source": [
    "arr = np.array(np.arange(225).reshape(5,15,3))\n",
    "arr"
   ]
  },
  {
   "cell_type": "code",
   "execution_count": 101,
   "id": "c9131134-b004-4c8f-9470-f92267f013e0",
   "metadata": {},
   "outputs": [
    {
     "data": {
      "text/plain": [
       "(5, 15, 3)"
      ]
     },
     "execution_count": 101,
     "metadata": {},
     "output_type": "execute_result"
    }
   ],
   "source": [
    "arr.shape"
   ]
  },
  {
   "cell_type": "code",
   "execution_count": 98,
   "id": "2fad190a-23b4-43ec-baea-e4fb3b5e77d9",
   "metadata": {},
   "outputs": [
    {
     "data": {
      "text/plain": [
       "3"
      ]
     },
     "execution_count": 98,
     "metadata": {},
     "output_type": "execute_result"
    }
   ],
   "source": [
    "arr.ndim"
   ]
  },
  {
   "cell_type": "code",
   "execution_count": 105,
   "id": "930d18f6-47f2-46e3-80fb-0a65d738007f",
   "metadata": {},
   "outputs": [
    {
     "data": {
      "text/plain": [
       "array([[ 0,  1,  2],\n",
       "       [ 3,  4,  5],\n",
       "       [ 6,  7,  8],\n",
       "       [ 9, 10, 11],\n",
       "       [12, 13, 14],\n",
       "       [15, 16, 17],\n",
       "       [18, 19, 20],\n",
       "       [21, 22, 23],\n",
       "       [24, 25, 26],\n",
       "       [27, 28, 29],\n",
       "       [30, 31, 32],\n",
       "       [33, 34, 35],\n",
       "       [36, 37, 38],\n",
       "       [39, 40, 41],\n",
       "       [42, 43, 44]])"
      ]
     },
     "execution_count": 105,
     "metadata": {},
     "output_type": "execute_result"
    }
   ],
   "source": [
    "arr[0][2:]"
   ]
  },
  {
   "cell_type": "code",
   "execution_count": 117,
   "id": "e32681ba-1901-43ef-9ac5-e372d8f901c7",
   "metadata": {},
   "outputs": [
    {
     "data": {
      "text/plain": [
       "array([[  0,   1,   2],\n",
       "       [ 45,  46,  47],\n",
       "       [ 90,  91,  92],\n",
       "       [135, 136, 137],\n",
       "       [180, 181, 182]])"
      ]
     },
     "execution_count": 117,
     "metadata": {},
     "output_type": "execute_result"
    }
   ],
   "source": [
    "arr[:,0,:]  # fetched first row from all the tables"
   ]
  },
  {
   "cell_type": "code",
   "execution_count": 120,
   "id": "a4168194-6fc2-4f06-bbee-fb3048574ae5",
   "metadata": {},
   "outputs": [
    {
     "data": {
      "text/plain": [
       "array([[[  0]],\n",
       "\n",
       "       [[ 45]],\n",
       "\n",
       "       [[ 90]],\n",
       "\n",
       "       [[135]],\n",
       "\n",
       "       [[180]]])"
      ]
     },
     "execution_count": 120,
     "metadata": {},
     "output_type": "execute_result"
    }
   ],
   "source": [
    "arr[:,0:1,0:1]       # only first element from all the tables"
   ]
  },
  {
   "cell_type": "markdown",
   "id": "3bf3778e-62f7-4f65-b13d-167d0e800b45",
   "metadata": {},
   "source": [
    "## replacing 100 to the 500"
   ]
  },
  {
   "cell_type": "code",
   "execution_count": 125,
   "id": "f0a8c55f-91d0-4509-8006-ef859a6a0525",
   "metadata": {},
   "outputs": [
    {
     "data": {
      "text/plain": [
       "100"
      ]
     },
     "execution_count": 125,
     "metadata": {},
     "output_type": "execute_result"
    }
   ],
   "source": [
    "arr[2][3][1]"
   ]
  },
  {
   "cell_type": "code",
   "execution_count": 131,
   "id": "0b947bbe-623c-4d35-b5a1-a911be1c070e",
   "metadata": {},
   "outputs": [
    {
     "data": {
      "text/plain": [
       "100"
      ]
     },
     "execution_count": 131,
     "metadata": {},
     "output_type": "execute_result"
    }
   ],
   "source": [
    "arr[2,3,1]"
   ]
  },
  {
   "cell_type": "code",
   "execution_count": 130,
   "id": "eb1df138-3dec-4fb2-9606-ee5767efcd70",
   "metadata": {},
   "outputs": [
    {
     "data": {
      "text/plain": [
       "array([[[100]]])"
      ]
     },
     "execution_count": 130,
     "metadata": {},
     "output_type": "execute_result"
    }
   ],
   "source": [
    "arr[2:3,3:4,1:2]"
   ]
  },
  {
   "cell_type": "code",
   "execution_count": 129,
   "id": "e94240b8-e308-4af5-bdac-5a3e1dee5fff",
   "metadata": {},
   "outputs": [
    {
     "data": {
      "text/plain": [
       "100"
      ]
     },
     "execution_count": 129,
     "metadata": {},
     "output_type": "execute_result"
    }
   ],
   "source": [
    "arr[2:3,3:4,1:2][0][0][0]"
   ]
  },
  {
   "cell_type": "markdown",
   "id": "f2c5ded1-de3b-4e7a-b9b0-b8c7db6641b4",
   "metadata": {},
   "source": [
    "# Arithmatical operation using Numpy array\n"
   ]
  },
  {
   "cell_type": "code",
   "execution_count": 142,
   "id": "6cb5a947-63e2-4b97-97eb-7089e29448f3",
   "metadata": {},
   "outputs": [],
   "source": [
    "a = [1,2,3,4,5,6,7,8,9]\n",
    "b = [5,4,8,7,9,6,2,3,5]\n",
    "ar1 = np.array(a)\n",
    "ar2 = np.array(b)"
   ]
  },
  {
   "cell_type": "markdown",
   "id": "1158975d-17c2-4014-8ee4-bdc36b68c7bb",
   "metadata": {},
   "source": [
    "### direct operation on element"
   ]
  },
  {
   "cell_type": "code",
   "execution_count": 134,
   "id": "e8d2866b-610c-4c91-8563-3355811ca373",
   "metadata": {},
   "outputs": [
    {
     "data": {
      "text/plain": [
       "array([ 3,  4,  5,  6,  7,  8,  9, 10, 11])"
      ]
     },
     "execution_count": 134,
     "metadata": {},
     "output_type": "execute_result"
    }
   ],
   "source": [
    "ar1 + 2"
   ]
  },
  {
   "cell_type": "code",
   "execution_count": 136,
   "id": "5495c821-34af-4c50-868d-1a001eaa6537",
   "metadata": {},
   "outputs": [
    {
     "data": {
      "text/plain": [
       "array([ 2,  4,  6,  8, 10, 12, 14, 16, 18])"
      ]
     },
     "execution_count": 136,
     "metadata": {},
     "output_type": "execute_result"
    }
   ],
   "source": [
    "ar1 *2"
   ]
  },
  {
   "cell_type": "code",
   "execution_count": 137,
   "id": "ff9746a5-04b3-4d22-9edf-5c5cbe4e2991",
   "metadata": {},
   "outputs": [
    {
     "data": {
      "text/plain": [
       "array([0, 1, 2, 3, 4, 5, 6, 7, 8])"
      ]
     },
     "execution_count": 137,
     "metadata": {},
     "output_type": "execute_result"
    }
   ],
   "source": [
    "ar1 - 1"
   ]
  },
  {
   "cell_type": "code",
   "execution_count": 138,
   "id": "48297e2a-cd03-417c-89c4-03f6f6085593",
   "metadata": {},
   "outputs": [
    {
     "data": {
      "text/plain": [
       "array([0.5, 1. , 1.5, 2. , 2.5, 3. , 3.5, 4. , 4.5])"
      ]
     },
     "execution_count": 138,
     "metadata": {},
     "output_type": "execute_result"
    }
   ],
   "source": [
    "ar1 / 2"
   ]
  },
  {
   "cell_type": "code",
   "execution_count": 146,
   "id": "ff4dde01-1983-4377-9608-92c5d2a367b9",
   "metadata": {},
   "outputs": [
    {
     "data": {
      "text/plain": [
       "array([ 6,  6, 11, 11, 14, 12,  9, 11, 14])"
      ]
     },
     "execution_count": 146,
     "metadata": {},
     "output_type": "execute_result"
    }
   ],
   "source": [
    "ar1 + ar2"
   ]
  },
  {
   "cell_type": "code",
   "execution_count": null,
   "id": "5aa0f5f3-4152-4693-b3c6-e0f83ef754ad",
   "metadata": {},
   "outputs": [],
   "source": [
    "## concate"
   ]
  },
  {
   "cell_type": "code",
   "execution_count": 148,
   "id": "13406323-ef1d-4d53-808e-21deb64a5168",
   "metadata": {},
   "outputs": [
    {
     "data": {
      "text/plain": [
       "array([1, 2, 3, 4, 5, 6, 7, 8, 9, 5, 4, 8, 7, 9, 6, 2, 3, 5])"
      ]
     },
     "execution_count": 148,
     "metadata": {},
     "output_type": "execute_result"
    }
   ],
   "source": [
    "np.concatenate([ar1,ar2])"
   ]
  },
  {
   "cell_type": "markdown",
   "id": "9bc54525-82d6-4fc5-96ce-f625bf4d15d1",
   "metadata": {},
   "source": [
    "# python"
   ]
  },
  {
   "cell_type": "code",
   "execution_count": 8,
   "id": "05ea087d-8674-45de-a0d8-12e28c9c71de",
   "metadata": {},
   "outputs": [],
   "source": [
    "tp = (1,2,3,4,5,6)"
   ]
  },
  {
   "cell_type": "code",
   "execution_count": 10,
   "id": "2c9df78c-5256-484c-92ac-893390fa901e",
   "metadata": {},
   "outputs": [],
   "source": [
    "tp2 = (85,12)"
   ]
  },
  {
   "cell_type": "code",
   "execution_count": 13,
   "id": "b95e09fb-5a53-471e-8f90-813e87d9f0c4",
   "metadata": {},
   "outputs": [],
   "source": [
    "tp3 = tp+tp2"
   ]
  },
  {
   "cell_type": "code",
   "execution_count": 20,
   "id": "a49e32c0-9e9e-407d-b29b-8a3650c878dd",
   "metadata": {},
   "outputs": [
    {
     "data": {
      "text/plain": [
       "2"
      ]
     },
     "execution_count": 20,
     "metadata": {},
     "output_type": "execute_result"
    }
   ],
   "source": [
    "tp.index(3)"
   ]
  },
  {
   "cell_type": "code",
   "execution_count": 12,
   "id": "a3285809-6f82-4127-9872-dfbd817617d6",
   "metadata": {},
   "outputs": [
    {
     "data": {
      "text/plain": [
       "(1, 2, 3, 4, 5, 6)"
      ]
     },
     "execution_count": 12,
     "metadata": {},
     "output_type": "execute_result"
    }
   ],
   "source": [
    "tp"
   ]
  },
  {
   "cell_type": "code",
   "execution_count": 7,
   "id": "5d90e359-01f3-4589-815e-2365fd79aec9",
   "metadata": {},
   "outputs": [
    {
     "data": {
      "text/plain": [
       "tuple"
      ]
     },
     "execution_count": 7,
     "metadata": {},
     "output_type": "execute_result"
    }
   ],
   "source": [
    "type(a)"
   ]
  },
  {
   "cell_type": "code",
   "execution_count": 21,
   "id": "566e4028-6b30-469e-b472-3b642377ce46",
   "metadata": {},
   "outputs": [],
   "source": [
    "lst = list(range(1,10))"
   ]
  },
  {
   "cell_type": "code",
   "execution_count": 22,
   "id": "18e18891-bf99-4562-a146-07928de15c20",
   "metadata": {},
   "outputs": [
    {
     "data": {
      "text/plain": [
       "[1, 2, 3, 4, 5, 6, 7, 8, 9]"
      ]
     },
     "execution_count": 22,
     "metadata": {},
     "output_type": "execute_result"
    }
   ],
   "source": [
    "lst"
   ]
  },
  {
   "cell_type": "code",
   "execution_count": 25,
   "id": "920233eb-4c5f-4d66-8c6c-27df3e08fc26",
   "metadata": {},
   "outputs": [
    {
     "data": {
      "text/plain": [
       "[9, 8, 7, 6, 5, 4, 3, 2, 1]"
      ]
     },
     "execution_count": 25,
     "metadata": {},
     "output_type": "execute_result"
    }
   ],
   "source": [
    "lst[::-1]"
   ]
  },
  {
   "cell_type": "code",
   "execution_count": 29,
   "id": "3b81915c-01d3-4503-970e-7a6d1c1280f1",
   "metadata": {},
   "outputs": [
    {
     "data": {
      "text/plain": [
       "[9, 8, 7, 6]"
      ]
     },
     "execution_count": 29,
     "metadata": {},
     "output_type": "execute_result"
    }
   ],
   "source": [
    "lst[-1:-5:-1]"
   ]
  },
  {
   "cell_type": "code",
   "execution_count": 32,
   "id": "0f92fe6c-7963-4ec2-a9e6-81f83d0eea14",
   "metadata": {},
   "outputs": [
    {
     "data": {
      "text/plain": [
       "[5, 4]"
      ]
     },
     "execution_count": 32,
     "metadata": {},
     "output_type": "execute_result"
    }
   ],
   "source": [
    "lst[-5:-7:-1]"
   ]
  },
  {
   "cell_type": "code",
   "execution_count": 34,
   "id": "80156607-d435-452b-a503-443baad1ae31",
   "metadata": {},
   "outputs": [
    {
     "data": {
      "text/plain": [
       "[1, 2, 3, 4, 5, 6, 7, 8, 9, 1, 2, 3, 4, 5, 6, 7, 8, 9]"
      ]
     },
     "execution_count": 34,
     "metadata": {},
     "output_type": "execute_result"
    }
   ],
   "source": [
    "lst * 2"
   ]
  },
  {
   "cell_type": "code",
   "execution_count": 35,
   "id": "e772fa49-dd0d-4175-8a2c-7b674437d3a4",
   "metadata": {},
   "outputs": [
    {
     "data": {
      "text/plain": [
       "[1, 2, 3, 4, 5, 6, 7, 8, 9]"
      ]
     },
     "execution_count": 35,
     "metadata": {},
     "output_type": "execute_result"
    }
   ],
   "source": [
    "lst"
   ]
  },
  {
   "cell_type": "code",
   "execution_count": 37,
   "id": "e2e72a06-55d8-4ea7-ac31-d4bb6fd7a304",
   "metadata": {},
   "outputs": [],
   "source": [
    "tp = (2,5)"
   ]
  },
  {
   "cell_type": "code",
   "execution_count": 38,
   "id": "dd19cdf8-2bd9-4e82-a74b-d2ac6707627f",
   "metadata": {},
   "outputs": [],
   "source": [
    "a,b = tp"
   ]
  },
  {
   "cell_type": "code",
   "execution_count": 39,
   "id": "f2c30d4a-7f72-4dc0-91ab-9ee5abc93a66",
   "metadata": {},
   "outputs": [
    {
     "data": {
      "text/plain": [
       "2"
      ]
     },
     "execution_count": 39,
     "metadata": {},
     "output_type": "execute_result"
    }
   ],
   "source": [
    "\n",
    "a"
   ]
  },
  {
   "cell_type": "code",
   "execution_count": 41,
   "id": "249bb8e8-1fb7-43c6-be6c-34c4d55b9687",
   "metadata": {},
   "outputs": [
    {
     "data": {
      "text/plain": [
       "(2, 5)"
      ]
     },
     "execution_count": 41,
     "metadata": {},
     "output_type": "execute_result"
    }
   ],
   "source": [
    "tp"
   ]
  },
  {
   "cell_type": "code",
   "execution_count": 95,
   "id": "b7a7b987-ac45-4581-90cd-d51881212670",
   "metadata": {},
   "outputs": [],
   "source": [
    "b = {2,5,8,4,6,'a',True , 8.2,9,9,(5,6)}"
   ]
  },
  {
   "cell_type": "code",
   "execution_count": 96,
   "id": "dddede1d-26d4-41c7-bb1f-120a0dd33782",
   "metadata": {},
   "outputs": [
    {
     "data": {
      "text/plain": [
       "{(5, 6), 2, 4, 5, 6, 8, 8.2, 9, True, 'a'}"
      ]
     },
     "execution_count": 96,
     "metadata": {},
     "output_type": "execute_result"
    }
   ],
   "source": [
    "b"
   ]
  },
  {
   "cell_type": "code",
   "execution_count": 73,
   "id": "94e32561-a086-4eec-ad46-a5d87782cf2b",
   "metadata": {},
   "outputs": [
    {
     "data": {
      "text/plain": [
       "set"
      ]
     },
     "execution_count": 73,
     "metadata": {},
     "output_type": "execute_result"
    }
   ],
   "source": [
    "\n",
    "type(b)"
   ]
  },
  {
   "cell_type": "code",
   "execution_count": 63,
   "id": "934ed216-5896-4ddf-98e8-623bd99531aa",
   "metadata": {},
   "outputs": [],
   "source": [
    "b.add(10)"
   ]
  },
  {
   "cell_type": "code",
   "execution_count": 64,
   "id": "9d6e2ae0-c9a2-400e-84a6-fd60c078dc4c",
   "metadata": {},
   "outputs": [
    {
     "data": {
      "text/plain": [
       "{2, 4, 5, 6, 8, 9, 10}"
      ]
     },
     "execution_count": 64,
     "metadata": {},
     "output_type": "execute_result"
    }
   ],
   "source": [
    "b"
   ]
  },
  {
   "cell_type": "code",
   "execution_count": 65,
   "id": "41644a98-5074-4f21-96e0-e55fc6455e8a",
   "metadata": {},
   "outputs": [],
   "source": [
    "b.remove(10)"
   ]
  },
  {
   "cell_type": "code",
   "execution_count": 69,
   "id": "9be0e876-a6e2-445b-997a-f76ec60cc200",
   "metadata": {},
   "outputs": [],
   "source": [
    "\n",
    "b.discard(10)"
   ]
  },
  {
   "cell_type": "code",
   "execution_count": 70,
   "id": "69b660eb-a056-471b-975a-cea039df114a",
   "metadata": {},
   "outputs": [],
   "source": [
    "p = (1,'a',5.2,True)"
   ]
  },
  {
   "cell_type": "code",
   "execution_count": 71,
   "id": "0ee49827-9607-4aaf-975d-ebcf503b2ad0",
   "metadata": {},
   "outputs": [
    {
     "data": {
      "text/plain": [
       "(1, 'a', 5.2, True)"
      ]
     },
     "execution_count": 71,
     "metadata": {},
     "output_type": "execute_result"
    }
   ],
   "source": [
    "p"
   ]
  },
  {
   "cell_type": "code",
   "execution_count": null,
   "id": "6399cae1-4307-411f-8154-460edfc9f3ac",
   "metadata": {},
   "outputs": [],
   "source": []
  },
  {
   "cell_type": "code",
   "execution_count": null,
   "id": "dc807102-2c56-4b37-ada0-4a8b33151bd1",
   "metadata": {},
   "outputs": [],
   "source": []
  }
 ],
 "metadata": {
  "kernelspec": {
   "display_name": "Python 3 (ipykernel)",
   "language": "python",
   "name": "python3"
  },
  "language_info": {
   "codemirror_mode": {
    "name": "ipython",
    "version": 3
   },
   "file_extension": ".py",
   "mimetype": "text/x-python",
   "name": "python",
   "nbconvert_exporter": "python",
   "pygments_lexer": "ipython3",
   "version": "3.11.5"
  }
 },
 "nbformat": 4,
 "nbformat_minor": 5
}
